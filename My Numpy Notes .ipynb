{
 "cells": [
  {
   "cell_type": "markdown",
   "metadata": {},
   "source": [
    "# Numerical Python - NumPy"
   ]
  },
  {
   "cell_type": "code",
   "execution_count": 4,
   "metadata": {},
   "outputs": [],
   "source": [
    "#- Numpy used in Scientific Computing\n",
    "#- Most useful feature of Numpy is n-dimensional array ( ndarray)\n",
    "#- Three main benefits of Numpy over python List\n",
    "#- 1. Less Memory\n",
    "#- 2. Fast\n",
    "#- 3. Convinient"
   ]
  },
  {
   "cell_type": "markdown",
   "metadata": {},
   "source": [
    "Writing python is Fast; Loops an be slow\n",
    "Numpy pushes its loops into compiled layer:\n",
    "    - fast development time of python\n",
    "    - fast execution time of the compiled code\n",
    "In Numpy, number of dimensions of array is called \"Rank\" of the array \n",
    "Array class in numpy is called \"ndarray\"\n",
    "\n",
    "Every ndarray has an associated dataTye ( dtype ) object"
   ]
  },
  {
   "cell_type": "code",
   "execution_count": 5,
   "metadata": {},
   "outputs": [],
   "source": [
    "# Install Numpy\n",
    "# pip install numpy"
   ]
  },
  {
   "cell_type": "code",
   "execution_count": 15,
   "metadata": {},
   "outputs": [],
   "source": [
    "#importing Numpy package \n",
    "import numpy as np\n",
    "import time \n",
    "import sys"
   ]
  },
  {
   "cell_type": "markdown",
   "metadata": {},
   "source": [
    "## Benefits of Numpy over List"
   ]
  },
  {
   "cell_type": "code",
   "execution_count": 24,
   "metadata": {},
   "outputs": [
    {
     "name": "stdout",
     "output_type": "stream",
     "text": [
      "Size of list = 2800000\n",
      "Size of array = 400000\n",
      "Time taken to add two lists of size 100000 = 82.41787648200989\n",
      "Time taken to add two numpy arrays of size 100000 = 0.10700607299804688\n"
     ]
    }
   ],
   "source": [
    "MAX_SIZE = 100000\n",
    "\n",
    "list1 = range(MAX_SIZE)\n",
    "list2 = range(MAX_SIZE)\n",
    "\n",
    "array1 = np.arange(MAX_SIZE)\n",
    "array2 = np.arange(MAX_SIZE)\n",
    "\n",
    "#- find size of an element in list = sys.getsizeof(<int/float/..>)\n",
    "#- find size of an element in array = <array>.itemsize\n",
    "\n",
    "print(\"Size of list = {}\".format(sys.getsizeof(5)*MAX_SIZE))\n",
    "print(\"Size of array = {}\".format(array1.size * array1.itemsize))\n",
    "\n",
    "start_time = time.time()\n",
    "list3 = [i+j for i,j in zip(list1,list2)]\n",
    "end_time = time.time()\n",
    "print(\"Time taken to add two lists of size {} = {}\".format(MAX_SIZE,(end_time-start_time)))\n",
    "\n",
    "start_time = time.time()\n",
    "array3= array1 + array2\n",
    "end_time = time.time()\n",
    "print(\"Time taken to add two numpy arrays of size {} = {}\".format(MAX_SIZE,(end_time-start_time)))"
   ]
  },
  {
   "cell_type": "markdown",
   "metadata": {},
   "source": [
    "## Numpy One Dimesional Arrays"
   ]
  },
  {
   "cell_type": "code",
   "execution_count": 75,
   "metadata": {},
   "outputs": [
    {
     "name": "stdout",
     "output_type": "stream",
     "text": [
      "<class 'numpy.ndarray'>\n",
      "[1 2 3 4 5]\n",
      "<class 'numpy.ndarray'>\n",
      "[1. 2. 3. 4. 5.]\n",
      "<class 'numpy.ndarray'>\n",
      "[0 1 2 3 4 5 6 7 8 9]\n",
      "<class 'numpy.ndarray'>\n",
      "[11 12 13 14 15 16 17 18 19]\n",
      "<class 'numpy.ndarray'>\n",
      "[20 22 24 26 28 30 32 34 36 38]\n",
      "[1.+0.j 2.+0.j 3.+0.j 4.+0.j 5.+0.j]\n"
     ]
    }
   ],
   "source": [
    "#- Using List\n",
    "# array(object, dtype=None, copy=True, order='K', subok=False, ndmin=0)\n",
    "\n",
    "myList = [1,2,3,4,5]\n",
    "\n",
    "npArray = np.array(myList)\n",
    "print(type(npArray))\n",
    "print(npArray)\n",
    "\n",
    "npArray2 = np.array(myList,dtype=np.float64)\n",
    "print(type(npArray2))\n",
    "print(npArray2)\n",
    "\n",
    "#- using arange method\n",
    "#- arange([start,] stop[, step,], dtype=None)\n",
    "\n",
    "npArange1 = np.arange(10) #- Extreme values are excluded\n",
    "print(type(npArange1))\n",
    "print(npArange1)\n",
    "\n",
    "npArange2 = np.arange(11,20) #- [Start, Stop ] Extreme values are excluded\n",
    "print(type(npArange2))\n",
    "print(npArange2)\n",
    "\n",
    "npArange3 = np.arange(20,40,2) #- [Start,Stop,Step] Extreme values are excluded\n",
    "print(type(npArange3))\n",
    "print(npArange3)\n",
    "\n",
    "#- Creating from ndArray \n",
    "npComplex = np.array(npArray,dtype=np.complex64)\n",
    "print(npComplex)"
   ]
  },
  {
   "cell_type": "markdown",
   "metadata": {},
   "source": [
    "### Accessing Array Elements"
   ]
  },
  {
   "cell_type": "code",
   "execution_count": 76,
   "metadata": {},
   "outputs": [
    {
     "name": "stdout",
     "output_type": "stream",
     "text": [
      "1\n",
      "[1. 2. 3.]\n",
      "[1 3]\n",
      "[5 4 3 2 1]\n",
      "[2 3 4]\n"
     ]
    }
   ],
   "source": [
    "#- Using Index Value\n",
    "print(npArray[0])\n",
    "\n",
    "#- Using indexing \n",
    "print(npArray2[:3])\n",
    "\n",
    "#- Using Step Indexing \n",
    "print(npArray3[:4:2])\n",
    "\n",
    "#- Reverese the Array \n",
    "print(npArray3[::-1])\n",
    "\n",
    "#- Using Negative Indexing \n",
    "print(npArray[-4:-1])"
   ]
  },
  {
   "cell_type": "markdown",
   "metadata": {},
   "source": [
    "### Attributes of Numpy Array "
   ]
  },
  {
   "cell_type": "raw",
   "metadata": {},
   "source": [
    "<array>.ndim \n",
    "<array>.shape\n",
    "<array>.nbytes\n",
    "<array>.itemsize\n",
    "<array>.dtype\n",
    "<array>.size\n",
    "<array>.imag\n",
    "<array>.real\n",
    "<array>.T"
   ]
  },
  {
   "cell_type": "code",
   "execution_count": 79,
   "metadata": {},
   "outputs": [
    {
     "name": "stdout",
     "output_type": "stream",
     "text": [
      "Dimension of array npArray = 1\n",
      "Size of an array element = 4bytes and array total size = 20bytes\n",
      "Size of np Array = 20bytes\n",
      "Data Type of array npArray = int32 \n",
      "Shape of the Array = (5,)\n",
      "Transpose of [1 2 3 4 5] shape = (5,) =>  [1 2 3 4 5] shape = (5,)\n",
      "Size of array = 5\n",
      "Imaginary part of the Array = [0 0 0 0 0]\n",
      "Real part of the Array = [1 2 3 4 5]\n"
     ]
    }
   ],
   "source": [
    "#- ndim - to know the dimension of the array\n",
    "# <Array>.ndim\n",
    "print(\"Dimension of array npArray = {}\".format(npArray.ndim))\n",
    "\n",
    "#- itemsize - to know size of an array element\n",
    "#- nbytes - to know size of array \n",
    "print(\"Size of an array element = {}bytes and array total size = {}bytes\".format(npArray.itemsize,npArray.size*npArray.itemsize))\n",
    "print(\"Size of np Array = {}bytes\".format(npArray.nbytes))\n",
    "\n",
    "#- dtype - to know the data type of an array\n",
    "print(\"Data Type of array npArray = {} \".format(npArray.dtype))\n",
    "\n",
    "#- shape - to know the shape of the array\n",
    "print(\"Shape of the Array = {}\".format(npArray.shape))\n",
    "\n",
    "#- T - Transpose \n",
    "print(\"Transpose of {} shape = {} =>  {} shape = {}\".format(npArray,npArray.shape,npArray.T,npArray.T.shape))\n",
    "\n",
    "#- size  - to know the size of an array \n",
    "print(\"Size of array = {}\".format(npArray.size))\n",
    "\n",
    "# imag - to print the imaginary part of the array \n",
    "print(\"Imaginary part of the Array = {}\".format(npArray.imag))\n",
    "\n",
    "# real - to print the real part of the array \n",
    "print(\"Real part of the Array = {}\".format(npArray.real))"
   ]
  },
  {
   "cell_type": "markdown",
   "metadata": {},
   "source": [
    "## N-Dimesional Arrays"
   ]
  },
  {
   "cell_type": "code",
   "execution_count": 95,
   "metadata": {},
   "outputs": [
    {
     "name": "stdout",
     "output_type": "stream",
     "text": [
      "[[0. 0. 0.]\n",
      " [0. 0. 0.]\n",
      " [0. 0. 0.]]\n",
      "[[0 0]\n",
      " [0 0]\n",
      " [0 0]]\n",
      "[[0. 0.]\n",
      " [0. 0.]\n",
      " [0. 0.]]\n",
      "[[0. 0.]\n",
      " [0. 0.]\n",
      " [0. 0.]]\n"
     ]
    }
   ],
   "source": [
    "#- zeros(shape, dtype=float, order='C')\n",
    "#- create a n-dimensional array and with initialized values to ZERO\n",
    "muld = np.zeros([3,3])\n",
    "print(muld)\n",
    "\n",
    "mul1 = np.zeros((3,2),dtype=int)\n",
    "print(mul1)\n",
    "\n",
    "mul2 = np.zeros((3,2),dtype=float,order='C')\n",
    "print(mul2)\n",
    "\n",
    "mul3 = np.zeros((3,2),dtype=float,order='F')\n",
    "print(mul3)\n"
   ]
  },
  {
   "cell_type": "code",
   "execution_count": 99,
   "metadata": {},
   "outputs": [
    {
     "name": "stdout",
     "output_type": "stream",
     "text": [
      "[[1. 1. 1. 1.]\n",
      " [1. 1. 1. 1.]\n",
      " [1. 1. 1. 1.]\n",
      " [1. 1. 1. 1.]]\n",
      "[[1 1 1]\n",
      " [1 1 1]\n",
      " [1 1 1]]\n",
      "[[1.+0.j 1.+0.j 1.+0.j 1.+0.j 1.+0.j]\n",
      " [1.+0.j 1.+0.j 1.+0.j 1.+0.j 1.+0.j]\n",
      " [1.+0.j 1.+0.j 1.+0.j 1.+0.j 1.+0.j]\n",
      " [1.+0.j 1.+0.j 1.+0.j 1.+0.j 1.+0.j]]\n"
     ]
    }
   ],
   "source": [
    "#- np.ones(shape, dtype=None, order='C')\n",
    "#- create a n-dimensional array and with initialized values to ONE\n",
    "\n",
    "mul_1 = np.ones([4,4])\n",
    "print(mul_1)\n",
    "\n",
    "mul_2 = np.ones([3,3],dtype = int)\n",
    "print(mul_2)\n",
    "\n",
    "mul_3 = np.ones([4,5],dtype=complex,order='F')\n",
    "print(mul_3)\n",
    "#- create a n-dimensional array and with initialized values to ONE\n"
   ]
  },
  {
   "cell_type": "code",
   "execution_count": 101,
   "metadata": {},
   "outputs": [
    {
     "name": "stdout",
     "output_type": "stream",
     "text": [
      "[[8 8 8]\n",
      " [8 8 8]\n",
      " [8 8 8]]\n",
      "[[7.+0.j 7.+0.j 7.+0.j]\n",
      " [7.+0.j 7.+0.j 7.+0.j]]\n"
     ]
    }
   ],
   "source": [
    "#- np.full(shape, fill_value, dtype=None, order='C')\n",
    "#- create a n-dimensional array and with initialized values to fill_value Argument\n",
    "\n",
    "mul_full_1 = np.full([3,3],8)\n",
    "print(mul_full_1)\n",
    "\n",
    "mul_full_2 = np.full([2,3],7,dtype=complex)\n",
    "print(mul_full_2)"
   ]
  },
  {
   "cell_type": "code",
   "execution_count": 271,
   "metadata": {},
   "outputs": [
    {
     "name": "stdout",
     "output_type": "stream",
     "text": [
      "[[1. 0. 0.]\n",
      " [0. 1. 0.]\n",
      " [0. 0. 1.]]\n",
      "[[0 1 2]\n",
      " [3 4 5]\n",
      " [6 7 8]]\n",
      "[ 0  1  3  6 10 15 21 28 36]\n",
      "[[ 0  1  2]\n",
      " [ 3  5  7]\n",
      " [ 9 12 15]]\n",
      "[[ 0  1  3]\n",
      " [ 3  7 12]\n",
      " [ 6 13 21]]\n",
      "[1. 1.]\n"
     ]
    }
   ],
   "source": [
    "#- np.eye(N, M=None, k=0, dtype=<class 'float'>, order='C')\n",
    "print(np.eye(3))\n",
    "\n",
    "#- Cumulative Sum \n",
    "r1 = np.arange(9).reshape(3,3)\n",
    "print(r1)\n",
    "print(np.cumsum(r1))\n",
    "print(np.cumsum(r1,axis=0))\n",
    "print(np.cumsum(r1,axis=1))\n",
    "\n",
    "r2= np.empty(2) #- returns a new array of given shape and type with random values\n",
    "print(r2)"
   ]
  },
  {
   "cell_type": "markdown",
   "metadata": {},
   "source": [
    "### arange - Similar to range() in Python "
   ]
  },
  {
   "cell_type": "code",
   "execution_count": 111,
   "metadata": {},
   "outputs": [
    {
     "name": "stdout",
     "output_type": "stream",
     "text": [
      "[0 1 2 3 4 5 6 7 8 9]\n",
      "[11 12 13 14 15 16 17 18 19]\n",
      "[20 22 24 26 28 30 32 34 36 38 40 42 44 46 48]\n"
     ]
    }
   ],
   "source": [
    "#- arange([start,] stop[, step,], dtype=None)\n",
    "\n",
    "init_list = np.arange(10)\n",
    "print(init_list)\n",
    "\n",
    "init_list_2 = np.arange(11,20) #- Extreme values are excluded \n",
    "print(init_list_2)\n",
    "\n",
    "init_list_3 = np.arange(20,50,2) #- Extreme value excluded\n",
    "print(init_list_3)"
   ]
  },
  {
   "cell_type": "code",
   "execution_count": 115,
   "metadata": {},
   "outputs": [
    {
     "name": "stdout",
     "output_type": "stream",
     "text": [
      "[1.         1.08163265 1.16326531 1.24489796 1.32653061 1.40816327\n",
      " 1.48979592 1.57142857 1.65306122 1.73469388 1.81632653 1.89795918\n",
      " 1.97959184 2.06122449 2.14285714 2.2244898  2.30612245 2.3877551\n",
      " 2.46938776 2.55102041 2.63265306 2.71428571 2.79591837 2.87755102\n",
      " 2.95918367 3.04081633 3.12244898 3.20408163 3.28571429 3.36734694\n",
      " 3.44897959 3.53061224 3.6122449  3.69387755 3.7755102  3.85714286\n",
      " 3.93877551 4.02040816 4.10204082 4.18367347 4.26530612 4.34693878\n",
      " 4.42857143 4.51020408 4.59183673 4.67346939 4.75510204 4.83673469\n",
      " 4.91836735 5.        ]\n",
      "[2.         2.11111111 2.22222222 2.33333333 2.44444444 2.55555556\n",
      " 2.66666667 2.77777778 2.88888889 3.        ]\n",
      "[2.  2.1 2.2 2.3 2.4 2.5 2.6 2.7 2.8 2.9]\n"
     ]
    }
   ],
   "source": [
    "#- np.linspace(start, stop, num=50, endpoint=True, retstep=False, dtype=None)\n",
    "#- Return evenly spaced numbers over a specified interval.\n",
    "\n",
    "sample_1 = np.linspace(1,5) # Gives 50 evenly spaced within 1 and 5 ( included )\n",
    "print(sample_1)\n",
    "\n",
    "sample_2= np.linspace(2,3,10) # Gives 10 evenly spaced values with in 2 and 3 ( included)\n",
    "print(sample_2)\n",
    "\n",
    "sample_3 = np.linspace(2,3,10,endpoint=False) # Gives 10 evenly spaced values with in 2 and 3 **( excluded )\n",
    "print(sample_3)"
   ]
  },
  {
   "cell_type": "markdown",
   "metadata": {},
   "source": [
    "### reshape() - Converting between 1D - ND"
   ]
  },
  {
   "cell_type": "code",
   "execution_count": 125,
   "metadata": {},
   "outputs": [
    {
     "name": "stdout",
     "output_type": "stream",
     "text": [
      "[0 1 2 3 4 5 6 7 8]\n",
      "Attributes =>\n",
      " ndim = 1\n",
      " shape = (9,)\n",
      "\n",
      "[[0 1 2]\n",
      " [3 4 5]\n",
      " [6 7 8]]\n",
      "Attributes =>\n",
      " ndim = 2\n",
      " shape = (3, 3)\n",
      "\n",
      "[[11 12 13]\n",
      " [14 15 16]\n",
      " [17 18 19]]\n",
      "Attributes =>\n",
      " ndim = 2\n",
      " shape = (3, 3)\n",
      "\n",
      "[[11 14 17]\n",
      " [12 15 18]\n",
      " [13 16 19]]\n",
      "Attributes =>\n",
      " ndim = 2\n",
      " shape = (3, 3)\n",
      "\n"
     ]
    }
   ],
   "source": [
    "#- np.reshape(a, newshape, order='C')\n",
    "\n",
    "re_list = np.arange(9)\n",
    "print(re_list)\n",
    "print(\"Attributes =>\\n ndim = {}\\n shape = {}\\n\".format(re_list.ndim,re_list.shape))\n",
    "re_list = re_list.reshape(3,3)\n",
    "print(re_list)\n",
    "print(\"Attributes =>\\n ndim = {}\\n shape = {}\\n\".format(re_list.ndim,re_list.shape))\n",
    "\n",
    "#- Making in a single step order 'C' - CStyle\n",
    "re_list_2 = np.arange(11,20).reshape(3,3)\n",
    "print(re_list_2)\n",
    "print(\"Attributes =>\\n ndim = {}\\n shape = {}\\n\".format(re_list_2.ndim,re_list_2.shape))\n",
    "\n",
    "#- order 'F' - Fortan\n",
    "re_list_3 = np.arange(11,20).reshape((3,3),order='F')\n",
    "print(re_list_3)\n",
    "print(\"Attributes =>\\n ndim = {}\\n shape = {}\\n\".format(re_list_3.ndim,re_list_3.shape))"
   ]
  },
  {
   "cell_type": "code",
   "execution_count": 146,
   "metadata": {},
   "outputs": [
    {
     "data": {
      "text/html": [
       "<img src=\"axis_img.png\",width=5,height=5>\n"
      ],
      "text/plain": [
       "<IPython.core.display.HTML object>"
      ]
     },
     "metadata": {},
     "output_type": "display_data"
    }
   ],
   "source": [
    "%%html\n",
    "<img src=\"axis_img.png\",width=5,height=5>"
   ]
  },
  {
   "cell_type": "code",
   "execution_count": 172,
   "metadata": {},
   "outputs": [
    {
     "name": "stdout",
     "output_type": "stream",
     "text": [
      "[[11 14 17]\n",
      " [12 15 18]\n",
      " [13 16 19]]\n",
      "11\n",
      "[11 14 17]\n",
      "[11 12 13]\n",
      "19\n",
      "[13 16 19]\n",
      "[17 18 19]\n",
      "135\n",
      "[36 45 54]\n",
      "[42 45 48]\n",
      "Standard Deviation = 5.163977794943222\n",
      "Standard Deviation = [4.89897949 4.89897949 4.89897949]\n",
      "Standard Deviation = [1.63299316 1.63299316 1.63299316]\n"
     ]
    }
   ],
   "source": [
    "print(re_list_3)\n",
    "\n",
    "#- Min\n",
    "print(np.min(re_list_3))        #- Gives minimum value of the array \n",
    "print(np.min(re_list_3,axis=0))  #- Gives minimum values along axis=0\n",
    "print(np.min(re_list_3,axis=1))  #- Gives minimum values along axis=1\n",
    "\n",
    "#- Max\n",
    "print(np.max(re_list_3))        #- Gives maximum value of the array \n",
    "print(np.max(re_list_3,axis=0))  #- Gives maximum values along axis=0\n",
    "print(np.max(re_list_3,axis=1))  #- Gives maximum values along axis=1\n",
    "\n",
    "#- Sum\n",
    "print(np.sum(re_list_3))        #- Gives Sum of the array \n",
    "print(np.sum(re_list_3,axis=0))  #- Gives Sum along axis=0\n",
    "print(np.sum(re_list_3,axis=1))  #- Gives Sum along axis=1\n",
    "\n",
    "#- Standard Deviation \n",
    "print(\"Standard Deviation = {}\".format(np.std(sqrt_arr)))         #- Gives Standard Deviation of the array \n",
    "print(\"Standard Deviation = {}\".format(np.std(sqrt_arr,axis=0)))  #- Gives Standard Deviation of the array along axis=0\n",
    "print(\"Standard Deviation = {}\".format(np.std(sqrt_arr,axis=1)))  #- Gives Standard Deviation of the array along axis=1"
   ]
  },
  {
   "cell_type": "code",
   "execution_count": 173,
   "metadata": {},
   "outputs": [
    {
     "name": "stdout",
     "output_type": "stream",
     "text": [
      "[[ 0  2  4]\n",
      " [ 6  8 10]\n",
      " [12 14 16]]\n",
      "[[0.         1.41421356 2.        ]\n",
      " [2.44948974 2.82842712 3.16227766]\n",
      " [3.46410162 3.74165739 4.        ]]\n",
      "transponse of array = \n",
      "[[ 0  2  4]\n",
      " [ 6  8 10]\n",
      " [12 14 16]] => \n",
      "[[ 0  6 12]\n",
      " [ 2  8 14]\n",
      " [ 4 10 16]]\n",
      "[[ 20  56  92]\n",
      " [ 56 200 344]\n",
      " [ 92 344 596]]\n",
      "[[ 20  56  92]\n",
      " [ 56 200 344]\n",
      " [ 92 344 596]]\n"
     ]
    }
   ],
   "source": [
    "#- Sqrt \n",
    "sqrt_arr = np.arange(9).reshape(3,3)*2\n",
    "print(sqrt_arr)\n",
    "print(np.sqrt(sqrt_arr))\n",
    "\n",
    "#- Transpose\n",
    "print(\"transponse of array = \\n{} => \\n{}\".format(sqrt_arr,sqrt_arr.T))\n",
    "\n",
    "#- Matrix product\n",
    "print(sqrt_arr.dot(sqrt_arr.T)) # or\n",
    "print(np.dot(sqrt_arr,sqrt_arr.T))"
   ]
  },
  {
   "cell_type": "code",
   "execution_count": 178,
   "metadata": {},
   "outputs": [
    {
     "name": "stdout",
     "output_type": "stream",
     "text": [
      "[[ 6  8]\n",
      " [10 12]]\n",
      "[[-4 -4]\n",
      " [-4 -4]]\n",
      "[[ 5 12]\n",
      " [21 32]]\n",
      "[[0.2        0.33333333]\n",
      " [0.42857143 0.5       ]]\n",
      "[[1 2]\n",
      " [3 4]]\n"
     ]
    }
   ],
   "source": [
    "#-Arithmetic Opetations\n",
    "a = np.arange(1,5).reshape(2,2)\n",
    "b = np.arange(5,9).reshape(2,2)\n",
    "\n",
    "print(a+b)\n",
    "print(a-b)\n",
    "print(a*b)\n",
    "print(a/b)\n",
    "print(a%b)"
   ]
  },
  {
   "cell_type": "code",
   "execution_count": 183,
   "metadata": {},
   "outputs": [
    {
     "name": "stdout",
     "output_type": "stream",
     "text": [
      "[[False False]\n",
      " [False False]]\n",
      "[[ True  True]\n",
      " [ True  True]]\n",
      "[[False False]\n",
      " [False False]]\n",
      "[[ True  True]\n",
      " [ True  True]]\n",
      "[[False False]\n",
      " [False False]]\n",
      "[[ True  True]\n",
      " [ True  True]]\n"
     ]
    }
   ],
   "source": [
    "#- Relational Operators\n",
    "print(a>b)\n",
    "print(a<b)\n",
    "print(a==b)\n",
    "print(a!=b)\n",
    "print(a>=b)\n",
    "print(a<=b)"
   ]
  },
  {
   "cell_type": "code",
   "execution_count": 277,
   "metadata": {},
   "outputs": [
    {
     "name": "stdout",
     "output_type": "stream",
     "text": [
      "10\n",
      "[  2   0 113]\n",
      "[  3  11 127]\n"
     ]
    }
   ],
   "source": [
    "#- Binary Operations\n",
    "num1 = 10\n",
    "num2 = 11\n",
    "print(np.bitwise_and(num1,num2)) #- bitwise AND on numbers\n",
    "\n",
    "arr1 = np.array([2,8,125])\n",
    "arr2 = np.array([3,3,115])\n",
    "print(np.bitwise_and(arr1,arr2)) #- bitwise AND on Arrays\n",
    "print(np.bitwise_or(arr1,arr2))  #- bitwsie OR on Arrays\n",
    "\n"
   ]
  },
  {
   "cell_type": "markdown",
   "metadata": {},
   "source": [
    "### Iterating Arrays"
   ]
  },
  {
   "cell_type": "code",
   "execution_count": 194,
   "metadata": {},
   "outputs": [
    {
     "name": "stdout",
     "output_type": "stream",
     "text": [
      "[[1. 2. 3.]\n",
      " [4. 5. 6.]\n",
      " [7. 8. 9.]]\n",
      "(3, 3)\n"
     ]
    }
   ],
   "source": [
    "arr_itr = np.linspace(1,10,9,endpoint=False).reshape(3,3)\n",
    "print(arr_itr)\n",
    "print(arr_itr.shape)"
   ]
  },
  {
   "cell_type": "code",
   "execution_count": 195,
   "metadata": {},
   "outputs": [
    {
     "name": "stdout",
     "output_type": "stream",
     "text": [
      "1.0\n",
      "2.0\n",
      "3.0\n",
      "4.0\n",
      "5.0\n",
      "6.0\n",
      "7.0\n",
      "8.0\n",
      "9.0\n"
     ]
    }
   ],
   "source": [
    "#- Method 1 - Iterate array to get each row and then iterate over each row to get each cell value\n",
    "for row in arr_itr:\n",
    "    for cell in row:\n",
    "        print(cell)"
   ]
  },
  {
   "cell_type": "code",
   "execution_count": 199,
   "metadata": {},
   "outputs": [
    {
     "name": "stdout",
     "output_type": "stream",
     "text": [
      "1.0\n",
      "2.0\n",
      "3.0\n",
      "4.0\n",
      "5.0\n",
      "6.0\n",
      "7.0\n",
      "8.0\n",
      "9.0\n"
     ]
    }
   ],
   "source": [
    "#- Method 2 - ravel()\n",
    "for cell in np.ravel(arr_itr):\n",
    "    print(cell)"
   ]
  },
  {
   "cell_type": "code",
   "execution_count": 207,
   "metadata": {},
   "outputs": [
    {
     "name": "stdout",
     "output_type": "stream",
     "text": [
      "1.0\n",
      "2.0\n",
      "3.0\n",
      "4.0\n",
      "5.0\n",
      "6.0\n",
      "7.0\n",
      "8.0\n",
      "9.0\n"
     ]
    }
   ],
   "source": [
    "#- Method 3 - using flatten()\n",
    "for cell in arr_itr.flatten():\n",
    "    print(cell)"
   ]
  },
  {
   "cell_type": "code",
   "execution_count": 206,
   "metadata": {},
   "outputs": [
    {
     "name": "stdout",
     "output_type": "stream",
     "text": [
      "1.0\n",
      "2.0\n",
      "3.0\n",
      "4.0\n",
      "5.0\n",
      "6.0\n",
      "7.0\n",
      "8.0\n",
      "9.0\n"
     ]
    }
   ],
   "source": [
    "#- Method 4 - using flat\n",
    "for cell in arr_itr.flat:\n",
    "    print(cell)"
   ]
  },
  {
   "cell_type": "raw",
   "metadata": {},
   "source": [
    "Difference between ravel() and flatten():\n",
    "    \n",
    "a.ravel():\n",
    "(i) Return only reference/view of original array\n",
    "(ii) If you modify the array you would notice that the value of original array also changes.\n",
    "(iii) Ravel is faster than flatten() as it does not occupy any memory.\n",
    "(iv) Ravel is a library-level function.\n",
    "\n",
    "a.flatten() :\n",
    "(i) Return copy of original array\n",
    "(ii) If you modify any value of this array value of original array is not affected.\n",
    "(iii) Flatten() is comparatively slower than ravel() as it occupies memory.\n",
    "(iv) Flatten is a method of an ndarray object."
   ]
  },
  {
   "cell_type": "code",
   "execution_count": 272,
   "metadata": {},
   "outputs": [
    {
     "name": "stdout",
     "output_type": "stream",
     "text": [
      "1.0\n",
      "2.0\n",
      "3.0\n",
      "4.0\n",
      "5.0\n",
      "6.0\n",
      "7.0\n",
      "8.0\n",
      "9.0\n",
      "1.0\n",
      "4.0\n",
      "7.0\n",
      "2.0\n",
      "5.0\n",
      "8.0\n",
      "3.0\n",
      "6.0\n",
      "9.0\n"
     ]
    }
   ],
   "source": [
    "#- Using nditer\n",
    "#- Efficient Multi-Dimensional  Iterator object to iterate over array \n",
    "#- The order of iteration is choosen to match memory layout of an array ,without condidering a particular ordering\n",
    "#- This can be seen by iterting over transpose of an array \n",
    "\n",
    "for cell in np.nditer(arr_itr):  #- CStyle \n",
    "    print(cell)\n",
    "    \n",
    "for cell in np.nditer(arr_itr,order='F'): #- Fortan Style\n",
    "    print(cell)\n",
    "\n"
   ]
  },
  {
   "cell_type": "markdown",
   "metadata": {},
   "source": [
    "### Stacking Arrays\n"
   ]
  },
  {
   "cell_type": "code",
   "execution_count": 217,
   "metadata": {},
   "outputs": [
    {
     "name": "stdout",
     "output_type": "stream",
     "text": [
      "[[1 2]\n",
      " [3 4]]\n",
      "[[5 6]\n",
      " [7 8]]\n",
      "Horizontal Stack => \n",
      "[[1 2 5 6]\n",
      " [3 4 7 8]]\n",
      "Vertical Stack => \n",
      "[[1 2]\n",
      " [3 4]\n",
      " [5 6]\n",
      " [7 8]]\n"
     ]
    }
   ],
   "source": [
    "a = np.arange(1,5).reshape(2,2)\n",
    "b = np.arange(5,9).reshape(2,2)\n",
    "print(a)\n",
    "print(b)\n",
    "c = np.hstack((a,b))\n",
    "d = np.vstack((a,b))\n",
    "print(\"Horizontal Stack => \\n{}\".format(c))\n",
    "print(\"Vertical Stack => \\n{}\".format(d))\n"
   ]
  },
  {
   "cell_type": "markdown",
   "metadata": {},
   "source": [
    "### Splitting Arrays"
   ]
  },
  {
   "cell_type": "code",
   "execution_count": 224,
   "metadata": {},
   "outputs": [
    {
     "name": "stdout",
     "output_type": "stream",
     "text": [
      "[array([[1, 2],\n",
      "       [3, 4]]), array([[5, 6],\n",
      "       [7, 8]])]\n",
      "[array([[1, 2]]), array([[3, 4]]), array([[5, 6]]), array([[7, 8]])]\n"
     ]
    }
   ],
   "source": [
    "h_res = np.hsplit(c,2)\n",
    "print(h_res)\n",
    "\n",
    "v_res = np.vsplit(d,4)\n",
    "print(v_res)"
   ]
  },
  {
   "cell_type": "markdown",
   "metadata": {},
   "source": [
    "### Conditional Indexing"
   ]
  },
  {
   "cell_type": "code",
   "execution_count": 241,
   "metadata": {},
   "outputs": [
    {
     "name": "stdout",
     "output_type": "stream",
     "text": [
      "Original Array = [1.  1.5 2.  2.5 3. ]\n",
      "Conditional Output = [1.  2.5 3. ]\n",
      "Conditional Output = [2.5 3. ]\n",
      "Modified Array = [ 1.   1.5  2.  -1.  -1. ]\n"
     ]
    }
   ],
   "source": [
    "arr_new = np.linspace(1,3,5)\n",
    "print(\"Original Array = {}\".format(arr_new))\n",
    "list_1 = [True,False,False,True,True]\n",
    "print(\"Conditional Output = {}\".format(arr_new[list_1]))\n",
    "print(\"Conditional Output = {}\".format(arr_new[arr_new>2]))\n",
    "\n",
    "#- Set the Values to -1 which are greater then 2\n",
    "arr_new[arr_new>2] = -1\n",
    "print(\"Modified Array = {}\".format(arr_new))"
   ]
  },
  {
   "cell_type": "markdown",
   "metadata": {},
   "source": [
    "### READ and WRITE from FILES"
   ]
  },
  {
   "cell_type": "code",
   "execution_count": 252,
   "metadata": {},
   "outputs": [],
   "source": [
    "#- Write to a file\n",
    "\"\"\"\n",
    "np.savetxt(\n",
    "    ['fname', 'X', \"fmt='%.18e'\", \"delimiter=' '\", \"newline='\\\\n'\", \"header=''\", \n",
    "    \"footer=''\", \"comments='# '\", 'encoding=None'],\n",
    ")\n",
    "\"\"\"\n",
    "np.savetxt\n",
    "a1 = np.linspace(1,10,endpoint=False).reshape(10,5)\n",
    "np.savetxt(\"array_items.txt\",a1,header=\"Arrar Items\",footer=\"---END---\")\n"
   ]
  },
  {
   "cell_type": "code",
   "execution_count": 254,
   "metadata": {},
   "outputs": [
    {
     "name": "stdout",
     "output_type": "stream",
     "text": [
      "[[1.   1.18 1.36 1.54 1.72]\n",
      " [1.9  2.08 2.26 2.44 2.62]\n",
      " [2.8  2.98 3.16 3.34 3.52]\n",
      " [3.7  3.88 4.06 4.24 4.42]\n",
      " [4.6  4.78 4.96 5.14 5.32]\n",
      " [5.5  5.68 5.86 6.04 6.22]\n",
      " [6.4  6.58 6.76 6.94 7.12]\n",
      " [7.3  7.48 7.66 7.84 8.02]\n",
      " [8.2  8.38 8.56 8.74 8.92]\n",
      " [9.1  9.28 9.46 9.64 9.82]]\n"
     ]
    }
   ],
   "source": [
    "#- Read from a file\n",
    "\"\"\" \n",
    "np.loadtxt(\n",
    "    ['fname', \"dtype=<class 'float'>\", \"comments='#'\", 'delimiter=None', 'converters=None', \n",
    "    'skiprows=0', 'usecols=None', 'unpack=False', 'ndmin=0', \"encoding='bytes'\"],\n",
    ")\n",
    "\"\"\"\n",
    "\n",
    "a2 = np.loadtxt(\"array_items.txt\")\n",
    "print(a2)"
   ]
  },
  {
   "cell_type": "markdown",
   "metadata": {},
   "source": [
    "### Broadcasting"
   ]
  },
  {
   "cell_type": "markdown",
   "metadata": {},
   "source": [
    "Broadcasting is a set of rules by which universal functions operate on arrays of different sizes and/or dimensions"
   ]
  },
  {
   "cell_type": "code",
   "execution_count": 255,
   "metadata": {},
   "outputs": [
    {
     "data": {
      "text/plain": [
       "array([5, 6, 7])"
      ]
     },
     "execution_count": 255,
     "metadata": {},
     "output_type": "execute_result"
    }
   ],
   "source": [
    "np.arange(3) + 5\n",
    "\n",
    "#- [ 0 1 2 ] + [ 5 5 5] => [ 5 6 7 ] => 5 is broadcasted \n",
    "\n",
    "#- [ 0 1 2 ]  + [0 1 2 ] => [0 1 2]   [0 1 2]   [0 2 4]\n",
    "#- [ 3 4 5 ]                [3 4 5] + [0 1 2] = [3 5 7]\n",
    "#- [ 6 7 8 ]                [6 7 8]   [0 1 2]   [6 8 10]"
   ]
  },
  {
   "cell_type": "markdown",
   "metadata": {},
   "source": [
    "Broadcasting Rules:\n",
    "------------------------------\n",
    "1. If array shape differ, left pad the smaller shape \n",
    "2. If any of the dimensions does not match, broadcast the dimension with size=1\n",
    "3. If neither of the dimensions is 1, raise an error"
   ]
  },
  {
   "cell_type": "code",
   "execution_count": null,
   "metadata": {},
   "outputs": [],
   "source": []
  }
 ],
 "metadata": {
  "kernelspec": {
   "display_name": "Python 3",
   "language": "python",
   "name": "python3"
  },
  "language_info": {
   "codemirror_mode": {
    "name": "ipython",
    "version": 3
   },
   "file_extension": ".py",
   "mimetype": "text/x-python",
   "name": "python",
   "nbconvert_exporter": "python",
   "pygments_lexer": "ipython3",
   "version": "3.7.1"
  }
 },
 "nbformat": 4,
 "nbformat_minor": 2
}
